{
  "cells": [
    {
      "cell_type": "markdown",
      "metadata": {
        "id": "view-in-github",
        "colab_type": "text"
      },
      "source": [
        "<a href=\"https://colab.research.google.com/github/rupeshsah2038/misc/blob/main/transformer_nmt.ipynb\" target=\"_parent\"><img src=\"https://colab.research.google.com/assets/colab-badge.svg\" alt=\"Open In Colab\"/></a>"
      ]
    },
    {
      "cell_type": "code",
      "execution_count": null,
      "metadata": {
        "id": "ry0zLDpxf01I"
      },
      "outputs": [],
      "source": [
        "# Transformer based NMT - 1 #\n",
        "# Based on: https://pytorch.org/tutorials/beginner/transformer_tutorial.html #\n",
        "# Based on: https://github.com/bentrevett/pytorch-seq2seq/blob/master/6%20-%20Attention%20is%20All%20You%20Need.ipynb #\n",
        "# Based on : https://github.com/aladdinpersson/Machine-Learning-Collection/blob/master/ML/Pytorch/more_advanced/seq2seq_transformer/seq2seq_transformer.py #\n",
        "# Using nn.Transformer directly #\n",
        "# Next let's break it down with nn.TransformerEncoder and nn.TransformerDecoder #"
      ]
    },
    {
      "cell_type": "code",
      "execution_count": null,
      "metadata": {
        "id": "6WSLRFBtgCaj"
      },
      "outputs": [],
      "source": [
        "# imports\n",
        "import torch\n",
        "import torch.nn as nn\n",
        "import torch.optim as optim\n",
        "# import torch.nn.functional as F\n",
        "\n",
        "import spacy\n",
        "import math\n",
        "import random\n",
        "\n",
        "from torchtext.legacy.datasets import Multi30k\n",
        "from torchtext.legacy.data import BucketIterator, Field\n",
        "from tqdm import tqdm\n",
        "\n",
        "# from google.colab import drive\n",
        "# drive.mount('/content/drive')"
      ]
    },
    {
      "cell_type": "code",
      "execution_count": null,
      "metadata": {
        "id": "lFMTS2J5iem8"
      },
      "outputs": [],
      "source": [
        "# Tokenization\n",
        "def tokenize_data(text):\n",
        "    return [tok for tok in text.split()]\n",
        "\n",
        "# Fields\n",
        "src_f = Field(tokenize=tokenize_data,\n",
        "              use_vocab=True,\n",
        "              lower=True,\n",
        "              init_token='<sos>',\n",
        "              eos_token='<eos>',\n",
        "              unk_token='<unk>'\n",
        "              )\n",
        "trg_f = Field(tokenize=tokenize_data,\n",
        "              use_vocab=True,\n",
        "              lower=True,\n",
        "              init_token='<sos>',\n",
        "              eos_token='<eos>',\n",
        "              unk_token='<unk>'\n",
        "              )"
      ]
    },
    {
      "cell_type": "code",
      "execution_count": null,
      "metadata": {
        "colab": {
          "base_uri": "https://localhost:8080/"
        },
        "id": "MOOEYp4LkL1s",
        "outputId": "ab57c74a-3480-4a84-ff73-be88e4d9fda0"
      },
      "outputs": [
        {
          "output_type": "stream",
          "name": "stdout",
          "text": [
            "Number of train examples: 29000\n",
            "Number of valid examples: 1014\n",
            "Number of test examples: 1000\n",
            "{'src': ['zwei', 'junge', 'weiße', 'männer', 'sind', 'im', 'freien', 'in', 'der', 'nähe', 'vieler', 'büsche.'], 'trg': ['two', 'young,', 'white', 'males', 'are', 'outside', 'near', 'many', 'bushes.']}\n",
            "cuda\n"
          ]
        }
      ],
      "source": [
        "# Data\n",
        "train, dev, test = Multi30k.splits(exts=('.de', '.en'),\n",
        "                                   fields=(src_f, trg_f))\n",
        "\n",
        "print(f\"Number of train examples: {len(train.examples)}\")\n",
        "print(f\"Number of valid examples: {len(dev.examples)}\")\n",
        "print(f\"Number of test examples: {len(test.examples)}\")\n",
        "print(vars(train.examples[0]))\n",
        "\n",
        "# device\n",
        "device = ('cuda' if torch.cuda.is_available() else 'cpu')\n",
        "print(device)"
      ]
    },
    {
      "cell_type": "code",
      "execution_count": null,
      "metadata": {
        "colab": {
          "base_uri": "https://localhost:8080/"
        },
        "id": "D1zp4yAjkeDv",
        "outputId": "f8ca8be6-64f1-4c3f-8696-e41702b63690"
      },
      "outputs": [
        {
          "output_type": "stream",
          "name": "stdout",
          "text": [
            "9597\n",
            "7704\n"
          ]
        }
      ],
      "source": [
        "# Vocabulary and Batching\n",
        "src_f.build_vocab(train, min_freq=2)\n",
        "trg_f.build_vocab(train, min_freq=2)\n",
        "print(len(src_f.vocab))\n",
        "print(len(trg_f.vocab))\n",
        "\n",
        "batch_size = 32\n",
        "train_iter, dev_iter, test_iter = BucketIterator.splits(\n",
        "    (train, dev, test),\n",
        "    batch_size = batch_size,\n",
        "    device = device\n",
        ")"
      ]
    },
    {
      "cell_type": "code",
      "execution_count": null,
      "metadata": {
        "id": "WmUPxaLPmL9t"
      },
      "outputs": [],
      "source": [
        "# Model\n",
        "class Transformer_NMT(nn.Module):\n",
        "    def __init__(self, embedding_dim, src_vocab_size, trg_vocab_size, n_heads, n_layers, src_pad_idx, ff_dim, max_len, dropout, device):\n",
        "        super(Transformer_NMT, self).__init__()\n",
        "        self.src_tok_embedding = nn.Embedding(src_vocab_size, embedding_dim)\n",
        "        self.src_pos_embedding = nn.Embedding(max_len, embedding_dim)\n",
        "        self.trg_tok_embedding = nn.Embedding(trg_vocab_size, embedding_dim)\n",
        "        self.trg_pos_embedding = nn.Embedding(max_len, embedding_dim)\n",
        "        self.device = device\n",
        "\n",
        "        self.transformer = nn.Transformer(\n",
        "            d_model = embedding_dim,\n",
        "            nhead = n_heads,\n",
        "            num_encoder_layers = n_layers,\n",
        "            num_decoder_layers = n_layers,\n",
        "            dim_feedforward = ff_dim,\n",
        "            dropout = dropout,\n",
        "            )\n",
        "\n",
        "        # output of transformer model is: [target_seq_length, batch_size, hid_dim=embedding_dim]\n",
        "        self.fc_out = nn.Linear(embedding_dim, trg_vocab_size)\n",
        "        # we are transformering it to get: [target_seq_length, batch_size, output_dim=trg_vocb_size]\n",
        "\n",
        "        self.dropout = nn.Dropout(dropout)\n",
        "        self.src_pad_idx = src_pad_idx # this is to tell the model which tokens in src should be ignored (as it is a pad token)\n",
        "\n",
        "    def make_src_mask(self, src):\n",
        "        src_mask = src.transpose(0, 1) == self.src_pad_idx # creating a BoolTensor\n",
        "        return src_mask.to(self.device)\n",
        "        # so essentially we are telling model to ignore the src positions which have pad token\n",
        "\n",
        "    def forward(self, src, trg):\n",
        "        src_seq_len, N = src.shape\n",
        "        trg_seq_len, N = trg.shape\n",
        "\n",
        "        src_positions = (\n",
        "            torch.arange(0, src_seq_len).unsqueeze(1).expand(src_seq_len, N).to(self.device)\n",
        "        ) # here expand will be expanded to a larger size\n",
        "        trg_positions = (\n",
        "            torch.arange(0, trg_seq_len).unsqueeze(1).expand(trg_seq_len, N).to(self.device)\n",
        "        )\n",
        "\n",
        "        src_embedding = self.dropout(self.src_tok_embedding(src) + self.src_pos_embedding(src_positions))\n",
        "        trg_embedding = self.dropout(self.trg_tok_embedding(trg) + self.trg_pos_embedding(trg_positions))\n",
        "\n",
        "        src_pad_mask = self.make_src_mask(src)\n",
        "        # print(trg_seq_len)\n",
        "        trg_mask = self.transformer.generate_square_subsequent_mask(trg_seq_len).to(self.device)\n",
        "        # print(trg_mask.shape)\n",
        "\n",
        "        output = self.transformer(\n",
        "            src = src_embedding,\n",
        "            tgt = trg_embedding,\n",
        "            src_key_padding_mask = src_pad_mask,\n",
        "            tgt_mask = trg_mask,\n",
        "        )\n",
        "        output = self.fc_out(output)\n",
        "\n",
        "        return output"
      ]
    },
    {
      "cell_type": "code",
      "execution_count": null,
      "metadata": {
        "colab": {
          "base_uri": "https://localhost:8080/"
        },
        "id": "qpm6NEu-YqBJ",
        "outputId": "51910707-8317-4bfa-8eca-159384e5bd95"
      },
      "outputs": [
        {
          "output_type": "stream",
          "name": "stdout",
          "text": [
            "Transformer_NMT(\n",
            "  (src_tok_embedding): Embedding(9597, 256)\n",
            "  (src_pos_embedding): Embedding(100, 256)\n",
            "  (trg_tok_embedding): Embedding(7704, 256)\n",
            "  (trg_pos_embedding): Embedding(100, 256)\n",
            "  (transformer): Transformer(\n",
            "    (encoder): TransformerEncoder(\n",
            "      (layers): ModuleList(\n",
            "        (0): TransformerEncoderLayer(\n",
            "          (self_attn): MultiheadAttention(\n",
            "            (out_proj): NonDynamicallyQuantizableLinear(in_features=256, out_features=256, bias=True)\n",
            "          )\n",
            "          (linear1): Linear(in_features=256, out_features=512, bias=True)\n",
            "          (dropout): Dropout(p=0.1, inplace=False)\n",
            "          (linear2): Linear(in_features=512, out_features=256, bias=True)\n",
            "          (norm1): LayerNorm((256,), eps=1e-05, elementwise_affine=True)\n",
            "          (norm2): LayerNorm((256,), eps=1e-05, elementwise_affine=True)\n",
            "          (dropout1): Dropout(p=0.1, inplace=False)\n",
            "          (dropout2): Dropout(p=0.1, inplace=False)\n",
            "        )\n",
            "        (1): TransformerEncoderLayer(\n",
            "          (self_attn): MultiheadAttention(\n",
            "            (out_proj): NonDynamicallyQuantizableLinear(in_features=256, out_features=256, bias=True)\n",
            "          )\n",
            "          (linear1): Linear(in_features=256, out_features=512, bias=True)\n",
            "          (dropout): Dropout(p=0.1, inplace=False)\n",
            "          (linear2): Linear(in_features=512, out_features=256, bias=True)\n",
            "          (norm1): LayerNorm((256,), eps=1e-05, elementwise_affine=True)\n",
            "          (norm2): LayerNorm((256,), eps=1e-05, elementwise_affine=True)\n",
            "          (dropout1): Dropout(p=0.1, inplace=False)\n",
            "          (dropout2): Dropout(p=0.1, inplace=False)\n",
            "        )\n",
            "      )\n",
            "      (norm): LayerNorm((256,), eps=1e-05, elementwise_affine=True)\n",
            "    )\n",
            "    (decoder): TransformerDecoder(\n",
            "      (layers): ModuleList(\n",
            "        (0): TransformerDecoderLayer(\n",
            "          (self_attn): MultiheadAttention(\n",
            "            (out_proj): NonDynamicallyQuantizableLinear(in_features=256, out_features=256, bias=True)\n",
            "          )\n",
            "          (multihead_attn): MultiheadAttention(\n",
            "            (out_proj): NonDynamicallyQuantizableLinear(in_features=256, out_features=256, bias=True)\n",
            "          )\n",
            "          (linear1): Linear(in_features=256, out_features=512, bias=True)\n",
            "          (dropout): Dropout(p=0.1, inplace=False)\n",
            "          (linear2): Linear(in_features=512, out_features=256, bias=True)\n",
            "          (norm1): LayerNorm((256,), eps=1e-05, elementwise_affine=True)\n",
            "          (norm2): LayerNorm((256,), eps=1e-05, elementwise_affine=True)\n",
            "          (norm3): LayerNorm((256,), eps=1e-05, elementwise_affine=True)\n",
            "          (dropout1): Dropout(p=0.1, inplace=False)\n",
            "          (dropout2): Dropout(p=0.1, inplace=False)\n",
            "          (dropout3): Dropout(p=0.1, inplace=False)\n",
            "        )\n",
            "        (1): TransformerDecoderLayer(\n",
            "          (self_attn): MultiheadAttention(\n",
            "            (out_proj): NonDynamicallyQuantizableLinear(in_features=256, out_features=256, bias=True)\n",
            "          )\n",
            "          (multihead_attn): MultiheadAttention(\n",
            "            (out_proj): NonDynamicallyQuantizableLinear(in_features=256, out_features=256, bias=True)\n",
            "          )\n",
            "          (linear1): Linear(in_features=256, out_features=512, bias=True)\n",
            "          (dropout): Dropout(p=0.1, inplace=False)\n",
            "          (linear2): Linear(in_features=512, out_features=256, bias=True)\n",
            "          (norm1): LayerNorm((256,), eps=1e-05, elementwise_affine=True)\n",
            "          (norm2): LayerNorm((256,), eps=1e-05, elementwise_affine=True)\n",
            "          (norm3): LayerNorm((256,), eps=1e-05, elementwise_affine=True)\n",
            "          (dropout1): Dropout(p=0.1, inplace=False)\n",
            "          (dropout2): Dropout(p=0.1, inplace=False)\n",
            "          (dropout3): Dropout(p=0.1, inplace=False)\n",
            "        )\n",
            "      )\n",
            "      (norm): LayerNorm((256,), eps=1e-05, elementwise_affine=True)\n",
            "    )\n",
            "  )\n",
            "  (fc_out): Linear(in_features=256, out_features=7704, bias=True)\n",
            "  (dropout): Dropout(p=0.1, inplace=False)\n",
            ")\n"
          ]
        }
      ],
      "source": [
        "# model parameters\n",
        "embedding_dim = 256\n",
        "src_vocab_size = len(src_f.vocab)\n",
        "trg_vocab_size = len(trg_f.vocab)\n",
        "n_heads = 4\n",
        "n_layers = 2\n",
        "src_pad_idx = src_f.vocab.stoi[\"<pad>\"]\n",
        "ff_dim = 512\n",
        "max_len = 100\n",
        "dropout = 0.1\n",
        "\n",
        "model = Transformer_NMT(\n",
        "    embedding_dim = embedding_dim,\n",
        "    src_vocab_size = src_vocab_size,\n",
        "    trg_vocab_size = trg_vocab_size,\n",
        "    n_heads = n_heads,\n",
        "    n_layers = n_layers,\n",
        "    src_pad_idx = src_pad_idx,\n",
        "    ff_dim = ff_dim,\n",
        "    max_len = max_len,\n",
        "    dropout = dropout,\n",
        "    device = device,\n",
        ").to(device)\n",
        "print(model)"
      ]
    },
    {
      "cell_type": "code",
      "execution_count": null,
      "metadata": {
        "id": "PIKVcaDjaExO",
        "outputId": "132bd0cf-86b3-4a72-acf6-dd0c801662d3",
        "colab": {
          "base_uri": "https://localhost:8080/",
          "height": 218
        }
      },
      "outputs": [
        {
          "output_type": "error",
          "ename": "NameError",
          "evalue": "ignored",
          "traceback": [
            "\u001b[0;31m---------------------------------------------------------------------------\u001b[0m",
            "\u001b[0;31mNameError\u001b[0m                                 Traceback (most recent call last)",
            "\u001b[0;32m<ipython-input-1-d8a974089f0b>\u001b[0m in \u001b[0;36m<module>\u001b[0;34m\u001b[0m\n\u001b[1;32m      1\u001b[0m \u001b[0;31m# optimizer and loss criterion\u001b[0m\u001b[0;34m\u001b[0m\u001b[0;34m\u001b[0m\u001b[0;34m\u001b[0m\u001b[0m\n\u001b[0;32m----> 2\u001b[0;31m \u001b[0moptimizer\u001b[0m \u001b[0;34m=\u001b[0m \u001b[0moptim\u001b[0m\u001b[0;34m.\u001b[0m\u001b[0mAdam\u001b[0m\u001b[0;34m(\u001b[0m\u001b[0mmodel\u001b[0m\u001b[0;34m.\u001b[0m\u001b[0mparameters\u001b[0m\u001b[0;34m(\u001b[0m\u001b[0;34m)\u001b[0m\u001b[0;34m,\u001b[0m \u001b[0mlr\u001b[0m\u001b[0;34m=\u001b[0m\u001b[0;36m1e-4\u001b[0m\u001b[0;34m)\u001b[0m\u001b[0;34m\u001b[0m\u001b[0;34m\u001b[0m\u001b[0m\n\u001b[0m\u001b[1;32m      3\u001b[0m \u001b[0mtrg_pad_idx\u001b[0m \u001b[0;34m=\u001b[0m \u001b[0mtrg_f\u001b[0m\u001b[0;34m.\u001b[0m\u001b[0mvocab\u001b[0m\u001b[0;34m.\u001b[0m\u001b[0mstoi\u001b[0m\u001b[0;34m[\u001b[0m\u001b[0;34m\"<pad>\"\u001b[0m\u001b[0;34m]\u001b[0m\u001b[0;34m\u001b[0m\u001b[0;34m\u001b[0m\u001b[0m\n\u001b[1;32m      4\u001b[0m \u001b[0mcriterion\u001b[0m \u001b[0;34m=\u001b[0m \u001b[0mnn\u001b[0m\u001b[0;34m.\u001b[0m\u001b[0mCrossEntropyLoss\u001b[0m\u001b[0;34m(\u001b[0m\u001b[0mignore_index\u001b[0m\u001b[0;34m=\u001b[0m\u001b[0mtrg_pad_idx\u001b[0m\u001b[0;34m)\u001b[0m\u001b[0;34m\u001b[0m\u001b[0;34m\u001b[0m\u001b[0m\n",
            "\u001b[0;31mNameError\u001b[0m: name 'optim' is not defined"
          ]
        }
      ],
      "source": [
        "# optimizer and loss criterion\n",
        "optimizer = optim.Adam(model.parameters(), lr=1e-4)\n",
        "trg_pad_idx = trg_f.vocab.stoi[\"<pad>\"]\n",
        "criterion = nn.CrossEntropyLoss(ignore_index=trg_pad_idx)"
      ]
    },
    {
      "cell_type": "code",
      "execution_count": null,
      "metadata": {
        "id": "w_aKUvvCcxds",
        "outputId": "0a52faa0-162b-4f2b-ade0-084904aa6f69",
        "colab": {
          "base_uri": "https://localhost:8080/"
        }
      },
      "outputs": [
        {
          "output_type": "stream",
          "name": "stderr",
          "text": [
            "Training Progress: 100%|██████████| 907/907 [00:34<00:00, 26.37it/s]\n",
            "Evaluation Progress: 100%|██████████| 32/32 [00:00<00:00, 83.30it/s]\n"
          ]
        },
        {
          "output_type": "stream",
          "name": "stdout",
          "text": [
            "Epoch: 1/5\n",
            "Training Loss: 2.428\tEvaluation Loss: 2.323\n",
            "Training PPL: 11.336\tEvaluation PPL: 10.207\n"
          ]
        },
        {
          "output_type": "stream",
          "name": "stderr",
          "text": [
            "Training Progress: 100%|██████████| 907/907 [00:34<00:00, 26.63it/s]\n",
            "Evaluation Progress: 100%|██████████| 32/32 [00:00<00:00, 78.56it/s]\n"
          ]
        },
        {
          "output_type": "stream",
          "name": "stdout",
          "text": [
            "Epoch: 2/5\n",
            "Training Loss: 2.379\tEvaluation Loss: 2.294\n",
            "Training PPL: 10.796\tEvaluation PPL: 9.910\n"
          ]
        },
        {
          "output_type": "stream",
          "name": "stderr",
          "text": [
            "Training Progress: 100%|██████████| 907/907 [00:33<00:00, 26.95it/s]\n",
            "Evaluation Progress: 100%|██████████| 32/32 [00:00<00:00, 78.46it/s]\n"
          ]
        },
        {
          "output_type": "stream",
          "name": "stdout",
          "text": [
            "Epoch: 3/5\n",
            "Training Loss: 2.335\tEvaluation Loss: 2.271\n",
            "Training PPL: 10.325\tEvaluation PPL: 9.690\n"
          ]
        },
        {
          "output_type": "stream",
          "name": "stderr",
          "text": [
            "Training Progress: 100%|██████████| 907/907 [00:33<00:00, 26.97it/s]\n",
            "Evaluation Progress: 100%|██████████| 32/32 [00:00<00:00, 77.46it/s]\n"
          ]
        },
        {
          "output_type": "stream",
          "name": "stdout",
          "text": [
            "Epoch: 4/5\n",
            "Training Loss: 2.291\tEvaluation Loss: 2.252\n",
            "Training PPL: 9.887\tEvaluation PPL: 9.502\n"
          ]
        },
        {
          "output_type": "stream",
          "name": "stderr",
          "text": [
            "Training Progress: 100%|██████████| 907/907 [00:33<00:00, 26.95it/s]\n",
            "Evaluation Progress: 100%|██████████| 32/32 [00:00<00:00, 75.94it/s]"
          ]
        },
        {
          "output_type": "stream",
          "name": "stdout",
          "text": [
            "Epoch: 5/5\n",
            "Training Loss: 2.250\tEvaluation Loss: 2.229\n",
            "Training PPL: 9.488\tEvaluation PPL: 9.293\n"
          ]
        },
        {
          "output_type": "stream",
          "name": "stderr",
          "text": [
            "\n"
          ]
        }
      ],
      "source": [
        "# train function\n",
        "epoch = 5\n",
        "train_losses = []\n",
        "eval_losses = []\n",
        "\n",
        "for i in range(epoch):\n",
        "    # training\n",
        "    model.train()\n",
        "    for batch_idx, batch in tqdm(enumerate(train_iter), total=len(train_iter), desc=\"Training Progress\"):\n",
        "        in_src = batch.src.to(device)\n",
        "        out_trg = batch.trg.to(device)\n",
        "\n",
        "        output = model(in_src, out_trg[:-1, :]) # trg_len, batch_size, trg_vocab_size\n",
        "        output = output.reshape(-1, output.shape[2]) # trg_len*batch_size, trg_vocab_size\n",
        "        out_trg = out_trg[1:].reshape(-1)\n",
        "        optimizer.zero_grad()\n",
        "\n",
        "        train_loss = criterion(output, out_trg)\n",
        "        train_losses.append(train_loss)\n",
        "\n",
        "        train_loss.backward()\n",
        "        optimizer.step()\n",
        "\n",
        "    # eval\n",
        "    model.eval()\n",
        "    for batch_idx, batch in tqdm(enumerate(dev_iter), total=len(dev_iter), desc=\"Evaluation Progress\"):\n",
        "        in_src = batch.src.to(device)\n",
        "        out_trg = batch.trg.to(device)\n",
        "\n",
        "        output = model(in_src, out_trg[:-1, :]) # trg_len, batch_size, trg_vocab_size\n",
        "        output = output.reshape(-1, output.shape[2]) # trg_len*batch_size, trg_vocab_size\n",
        "        out_trg = out_trg[1:].reshape(-1)\n",
        "\n",
        "        eval_loss = criterion(output, out_trg)\n",
        "        eval_losses.append(eval_loss)\n",
        "\n",
        "    print(f'Epoch: {i+1}/{epoch}')\n",
        "    print(f'Training Loss: {sum(train_losses)/len(train_losses):,.3f}\\tEvaluation Loss: {sum(eval_losses)/len(eval_losses):,.3f}')\n",
        "    print(f'Training PPL: {math.exp(sum(train_losses)/len(train_losses)):,.3f}\\tEvaluation PPL: {math.exp(sum(eval_losses)/len(eval_losses)):,.3f}')"
      ]
    }
  ],
  "metadata": {
    "colab": {
      "provenance": [],
      "include_colab_link": true
    },
    "kernelspec": {
      "display_name": "Python 3",
      "name": "python3"
    },
    "language_info": {
      "codemirror_mode": {
        "name": "ipython",
        "version": 3
      },
      "file_extension": ".py",
      "mimetype": "text/x-python",
      "name": "python",
      "nbconvert_exporter": "python",
      "pygments_lexer": "ipython3",
      "version": "3.8.5"
    }
  },
  "nbformat": 4,
  "nbformat_minor": 0
}